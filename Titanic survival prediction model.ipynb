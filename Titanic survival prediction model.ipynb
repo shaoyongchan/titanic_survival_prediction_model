{
 "cells": [
  {
   "cell_type": "code",
   "execution_count": 1,
   "id": "6df4584b",
   "metadata": {},
   "outputs": [],
   "source": [
    "import pandas as pd\n",
    "import numpy as np\n",
    "import sklearn\n",
    "from sklearn.neighbors import KNeighborsClassifier"
   ]
  },
  {
   "cell_type": "code",
   "execution_count": 2,
   "id": "c47ddebb",
   "metadata": {},
   "outputs": [],
   "source": [
    "#reading data\n",
    "\n",
    "train_data = pd.read_csv(\"train.csv\")"
   ]
  },
  {
   "cell_type": "code",
   "execution_count": 3,
   "id": "34071059",
   "metadata": {},
   "outputs": [],
   "source": [
    "#selecting relevant features\n",
    "#encoding categorical data\n",
    "#replacing missing data with mean\n",
    "\n",
    "\n",
    "X = train_data[[\"Pclass\", \"Sex\", \"Age\", \"SibSp\", \"Parch\", \"Fare\"]]\n",
    "X = X.replace({\"male\": 0.5, \"female\": -0.5})\n",
    "\n",
    "X = X.fillna(X.mean())"
   ]
  },
  {
   "cell_type": "code",
   "execution_count": 4,
   "id": "2d8f4599",
   "metadata": {},
   "outputs": [
    {
     "name": "stdout",
     "output_type": "stream",
     "text": [
      "0.32272727272727275\n"
     ]
    }
   ],
   "source": [
    "#estimating the number of children and distributing them among passengers above the age of 23\n",
    "\n",
    "children = (len(X)-(X[\"Parch\"].value_counts()[0]))/(len(X[X[\"Age\"]>=23]))\n",
    "print(children)"
   ]
  },
  {
   "cell_type": "code",
   "execution_count": 5,
   "id": "a46778df",
   "metadata": {},
   "outputs": [],
   "source": [
    "#estimating help received from and help provided to siblings/spouses, parents, and children, based on age\n",
    "\n",
    "def h_r(a, s, p):\n",
    "    if a<20:\n",
    "        return (p+0.5*s)/(1+0.5*s)\n",
    "    elif 20<=a<45:\n",
    "        if s!=0:\n",
    "            return s/(s+p)\n",
    "        else:\n",
    "            return 0\n",
    "    else:\n",
    "        return children\n",
    "def h_p(a, s, p):\n",
    "    if a<12 or a>45:\n",
    "        return 0\n",
    "    elif 12<=a<20:\n",
    "        return (0.5*s)/(1+p+0.5*s)\n",
    "    elif 20<=a<23:\n",
    "        return (p+s)/(1+s)\n",
    "    elif 23<=a<45:\n",
    "        return (p+s+children)/(1+s)\n",
    "    else:\n",
    "        return 0\n",
    "for i in range(len(X)):\n",
    "    hr = h_r(X.loc[i, \"Age\"], X.loc[i, \"SibSp\"], X.loc[i, \"Parch\"])\n",
    "    hp = h_p(X.loc[i, \"Age\"], X.loc[i, \"SibSp\"], X.loc[i, \"Parch\"])\n",
    "    X.loc[i, [\"Help received\"]] = hr\n",
    "    X.loc[i, [\"Help provided\"]] = hp\n",
    "    X.loc[i, [\"Net help received\"]] = hr-hp"
   ]
  },
  {
   "cell_type": "code",
   "execution_count": 6,
   "id": "f878bfde",
   "metadata": {},
   "outputs": [],
   "source": [
    "#replacing age with more relevant information\n",
    "#feature normalization\n",
    "\n",
    "X[\"Age\"] = abs(X[\"Age\"]-35)\n",
    "\n",
    "def featnorm(s, M):\n",
    "    return (M[s]-M[s].mean())/(M[s].max()-M[s].min())\n",
    "X[\"Pclass\"] = featnorm(\"Pclass\", X)\n",
    "X[\"Age\"] = featnorm(\"Age\", X)\n",
    "X[\"Fare\"] = featnorm(\"Fare\", X)\n",
    "X[\"Net help received\"] = featnorm(\"Net help received\", X)\n",
    "X[\"SibSp\"] = featnorm(\"SibSp\", X)\n",
    "X[\"Parch\"] = featnorm(\"Parch\", X)"
   ]
  },
  {
   "cell_type": "code",
   "execution_count": 7,
   "id": "21631f7b",
   "metadata": {},
   "outputs": [
    {
     "data": {
      "text/html": [
       "<style>#sk-container-id-1 {color: black;}#sk-container-id-1 pre{padding: 0;}#sk-container-id-1 div.sk-toggleable {background-color: white;}#sk-container-id-1 label.sk-toggleable__label {cursor: pointer;display: block;width: 100%;margin-bottom: 0;padding: 0.3em;box-sizing: border-box;text-align: center;}#sk-container-id-1 label.sk-toggleable__label-arrow:before {content: \"▸\";float: left;margin-right: 0.25em;color: #696969;}#sk-container-id-1 label.sk-toggleable__label-arrow:hover:before {color: black;}#sk-container-id-1 div.sk-estimator:hover label.sk-toggleable__label-arrow:before {color: black;}#sk-container-id-1 div.sk-toggleable__content {max-height: 0;max-width: 0;overflow: hidden;text-align: left;background-color: #f0f8ff;}#sk-container-id-1 div.sk-toggleable__content pre {margin: 0.2em;color: black;border-radius: 0.25em;background-color: #f0f8ff;}#sk-container-id-1 input.sk-toggleable__control:checked~div.sk-toggleable__content {max-height: 200px;max-width: 100%;overflow: auto;}#sk-container-id-1 input.sk-toggleable__control:checked~label.sk-toggleable__label-arrow:before {content: \"▾\";}#sk-container-id-1 div.sk-estimator input.sk-toggleable__control:checked~label.sk-toggleable__label {background-color: #d4ebff;}#sk-container-id-1 div.sk-label input.sk-toggleable__control:checked~label.sk-toggleable__label {background-color: #d4ebff;}#sk-container-id-1 input.sk-hidden--visually {border: 0;clip: rect(1px 1px 1px 1px);clip: rect(1px, 1px, 1px, 1px);height: 1px;margin: -1px;overflow: hidden;padding: 0;position: absolute;width: 1px;}#sk-container-id-1 div.sk-estimator {font-family: monospace;background-color: #f0f8ff;border: 1px dotted black;border-radius: 0.25em;box-sizing: border-box;margin-bottom: 0.5em;}#sk-container-id-1 div.sk-estimator:hover {background-color: #d4ebff;}#sk-container-id-1 div.sk-parallel-item::after {content: \"\";width: 100%;border-bottom: 1px solid gray;flex-grow: 1;}#sk-container-id-1 div.sk-label:hover label.sk-toggleable__label {background-color: #d4ebff;}#sk-container-id-1 div.sk-serial::before {content: \"\";position: absolute;border-left: 1px solid gray;box-sizing: border-box;top: 0;bottom: 0;left: 50%;z-index: 0;}#sk-container-id-1 div.sk-serial {display: flex;flex-direction: column;align-items: center;background-color: white;padding-right: 0.2em;padding-left: 0.2em;position: relative;}#sk-container-id-1 div.sk-item {position: relative;z-index: 1;}#sk-container-id-1 div.sk-parallel {display: flex;align-items: stretch;justify-content: center;background-color: white;position: relative;}#sk-container-id-1 div.sk-item::before, #sk-container-id-1 div.sk-parallel-item::before {content: \"\";position: absolute;border-left: 1px solid gray;box-sizing: border-box;top: 0;bottom: 0;left: 50%;z-index: -1;}#sk-container-id-1 div.sk-parallel-item {display: flex;flex-direction: column;z-index: 1;position: relative;background-color: white;}#sk-container-id-1 div.sk-parallel-item:first-child::after {align-self: flex-end;width: 50%;}#sk-container-id-1 div.sk-parallel-item:last-child::after {align-self: flex-start;width: 50%;}#sk-container-id-1 div.sk-parallel-item:only-child::after {width: 0;}#sk-container-id-1 div.sk-dashed-wrapped {border: 1px dashed gray;margin: 0 0.4em 0.5em 0.4em;box-sizing: border-box;padding-bottom: 0.4em;background-color: white;}#sk-container-id-1 div.sk-label label {font-family: monospace;font-weight: bold;display: inline-block;line-height: 1.2em;}#sk-container-id-1 div.sk-label-container {text-align: center;}#sk-container-id-1 div.sk-container {/* jupyter's `normalize.less` sets `[hidden] { display: none; }` but bootstrap.min.css set `[hidden] { display: none !important; }` so we also need the `!important` here to be able to override the default hidden behavior on the sphinx rendered scikit-learn.org. See: https://github.com/scikit-learn/scikit-learn/issues/21755 */display: inline-block !important;position: relative;}#sk-container-id-1 div.sk-text-repr-fallback {display: none;}</style><div id=\"sk-container-id-1\" class=\"sk-top-container\"><div class=\"sk-text-repr-fallback\"><pre>KNeighborsClassifier(n_neighbors=29)</pre><b>In a Jupyter environment, please rerun this cell to show the HTML representation or trust the notebook. <br />On GitHub, the HTML representation is unable to render, please try loading this page with nbviewer.org.</b></div><div class=\"sk-container\" hidden><div class=\"sk-item\"><div class=\"sk-estimator sk-toggleable\"><input class=\"sk-toggleable__control sk-hidden--visually\" id=\"sk-estimator-id-1\" type=\"checkbox\" checked><label for=\"sk-estimator-id-1\" class=\"sk-toggleable__label sk-toggleable__label-arrow\">KNeighborsClassifier</label><div class=\"sk-toggleable__content\"><pre>KNeighborsClassifier(n_neighbors=29)</pre></div></div></div></div></div>"
      ],
      "text/plain": [
       "KNeighborsClassifier(n_neighbors=29)"
      ]
     },
     "execution_count": 7,
     "metadata": {},
     "output_type": "execute_result"
    }
   ],
   "source": [
    "#creating the model\n",
    "\n",
    "Xlist = list(zip(X[\"Pclass\"], X[\"Age\"], X[\"Fare\"], X[\"Sex\"], X[\"Net help received\"], X[\"SibSp\"], X[\"Parch\"]))\n",
    "ylist = list(train_data[\"Survived\"])\n",
    "model = KNeighborsClassifier(n_neighbors=int(np.sqrt(len(X))))\n",
    "model.fit(Xlist, ylist)"
   ]
  },
  {
   "cell_type": "code",
   "execution_count": 8,
   "id": "5cb98115",
   "metadata": {},
   "outputs": [
    {
     "name": "stdout",
     "output_type": "stream",
     "text": [
      "0.2984126984126984\n"
     ]
    }
   ],
   "source": [
    "#applying exactly the same modifications, feature creation, and rescaling process to the test data\n",
    "\n",
    "test_data = pd.read_csv(\"test.csv\")\n",
    "\n",
    "A = test_data[[\"Pclass\", \"Sex\", \"Age\", \"SibSp\", \"Parch\", \"Fare\"]]\n",
    "A = A.replace({\"male\": 0.5, \"female\": -0.5})\n",
    "\n",
    "A = A.fillna(A.mean())\n",
    "\n",
    "children = (len(A)-(A[\"Parch\"].value_counts()[0]))/(len(A[A[\"Age\"]>=23]))\n",
    "print(children)\n",
    "\n",
    "for i in range(len(A)):\n",
    "    hr = h_r(A.loc[i, \"Age\"], A.loc[i, \"SibSp\"], A.loc[i, \"Parch\"])\n",
    "    hp = h_p(A.loc[i, \"Age\"], A.loc[i, \"SibSp\"], A.loc[i, \"Parch\"])\n",
    "    A.loc[i, [\"Help received\"]] = hr\n",
    "    A.loc[i, [\"Help provided\"]] = hp\n",
    "    A.loc[i, [\"Net help received\"]] = hr-hp\n",
    "    \n",
    "A[\"Age\"] = abs(A[\"Age\"]-35)\n",
    "\n",
    "A[\"Pclass\"] = featnorm(\"Pclass\", A)\n",
    "A[\"Age\"] = featnorm(\"Age\", A)\n",
    "A[\"Fare\"] = featnorm(\"Fare\", A)\n",
    "A[\"Net help received\"] = featnorm(\"Net help received\", A)\n",
    "A[\"SibSp\"] = featnorm(\"SibSp\", A)\n",
    "A[\"Parch\"] = featnorm(\"Parch\", A)"
   ]
  },
  {
   "cell_type": "code",
   "execution_count": 9,
   "id": "e0718926",
   "metadata": {},
   "outputs": [],
   "source": [
    "#applying the model to the test data\n",
    "\n",
    "test_list = list(zip(A[\"Pclass\"], A[\"Age\"], A[\"Fare\"], A[\"Sex\"], A[\"Net help received\"], A[\"SibSp\"], A[\"Parch\"]))\n",
    "\n",
    "prediction = model.predict(test_list)\n",
    "final = pd.DataFrame()\n",
    "final[\"PassengerId\"] = range(892, 1310)\n",
    "for i in range(len(prediction)):\n",
    "    final.loc[i, [\"Survived\"]] = prediction[i]"
   ]
  },
  {
   "cell_type": "code",
   "execution_count": 10,
   "id": "e694d486",
   "metadata": {},
   "outputs": [
    {
     "name": "stdout",
     "output_type": "stream",
     "text": [
      "Total number: 418\n",
      "Survived: 137\n",
      "Survival rate: 0.3277511961722488\n"
     ]
    }
   ],
   "source": [
    "#checks\n",
    "\n",
    "l = len(prediction)\n",
    "s = sum(prediction)\n",
    "p = s/l\n",
    "\n",
    "print(\"Total number:\", l)\n",
    "print(\"Survived:\", s)\n",
    "print(\"Survival rate:\", p)"
   ]
  },
  {
   "cell_type": "code",
   "execution_count": 11,
   "id": "f85fa1ae",
   "metadata": {},
   "outputs": [],
   "source": [
    "#transferring predictions to csv file\n",
    "\n",
    "final.to_csv(\"titanic_predictions.csv\", sep=\",\", index=False)"
   ]
  },
  {
   "cell_type": "code",
   "execution_count": 12,
   "id": "1f85e5ac",
   "metadata": {},
   "outputs": [],
   "source": [
    "#saving the model\n",
    "\n",
    "import pickle\n",
    "with open(\"Titanic prediction model\", \"wb\") as f:\n",
    "    pickle.dump(model, f)"
   ]
  },
  {
   "cell_type": "code",
   "execution_count": 13,
   "id": "b346ffbe",
   "metadata": {},
   "outputs": [],
   "source": [
    "#comparing performance to a random model (extra)\n",
    "\n",
    "L = len(train_data)\n",
    "S = sum(train_data[\"Survived\"])\n",
    "P = L/S\n",
    "\n",
    "import random\n",
    "state = [0, 1]\n",
    "randlist = random.choices(state, weights=(1-P, P), k=len(test_data))\n",
    "\n",
    "base = pd.DataFrame()\n",
    "base[\"PassengerId\"] = range(892, 1310)\n",
    "for i in range(len(randlist)):\n",
    "    base.loc[i, [\"Survived\"]] = randlist[i]\n",
    "base.to_csv(\"baseline_predictions.csv\", sep=\",\", index=False)"
   ]
  },
  {
   "cell_type": "markdown",
   "id": "03fa1a7e",
   "metadata": {},
   "source": [
    "Final Results\n",
    "\n",
    "Accuracy of random model: 53.349%\n",
    "Accuracy of KNN model: 76.315%"
   ]
  }
 ],
 "metadata": {
  "kernelspec": {
   "display_name": "Python 3 (ipykernel)",
   "language": "python",
   "name": "python3"
  },
  "language_info": {
   "codemirror_mode": {
    "name": "ipython",
    "version": 3
   },
   "file_extension": ".py",
   "mimetype": "text/x-python",
   "name": "python",
   "nbconvert_exporter": "python",
   "pygments_lexer": "ipython3",
   "version": "3.11.5"
  }
 },
 "nbformat": 4,
 "nbformat_minor": 5
}
